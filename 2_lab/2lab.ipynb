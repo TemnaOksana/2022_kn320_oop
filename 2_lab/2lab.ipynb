{
 "cells": [
  {
   "cell_type": "markdown",
   "metadata": {},
   "source": [
    "## 1. Практика з простими змінними, списками list, наборами set та словниками dict\n"
   ]
  },
  {
   "cell_type": "markdown",
   "metadata": {},
   "source": [
    "#### Списки list"
   ]
  },
  {
   "cell_type": "code",
   "execution_count": 8,
   "metadata": {},
   "outputs": [
    {
     "name": "stdout",
     "output_type": "stream",
     "text": [
      "Це тип — <class 'list'> та його елементи [2, 4, 8]\n",
      "Це тип — <class 'list'> та його елементи ['String', 1, 45, ['dfe', 55], '^___^']\n",
      "Під порядковим номером 2 є значення 45\n",
      "Я навчились програмувати ^___^\n",
      "['String', 1, 45, ['dfe', 55], '^___^', 'Новий елемент']\n"
     ]
    }
   ],
   "source": [
    "lal_3 = list([2, 4, 8])\n",
    "print(f\"Це тип — {type(lal_3)} та його елементи {lal_3}\")\n",
    "\n",
    "tt_2 = [\"String\", 1, 45, [\"dfe\", 55], \"^___^\"]\n",
    "print(f\"Це тип — {type(tt_2)} та його елементи {tt_2}\")\n",
    "print(f\"Під порядковим номером {tt_2.index(45)} є значення {tt_2[2]}\")\n",
    "print(f\"Я навчились програмувати {tt_2[-1]}\")\n",
    "\n",
    "tt_2.append(\"Новий елемент\")\n",
    "print(tt_2)"
   ]
  },
  {
   "cell_type": "markdown",
   "metadata": {},
   "source": [
    "#### Набори set"
   ]
  },
  {
   "cell_type": "code",
   "execution_count": 15,
   "metadata": {},
   "outputs": [
    {
     "name": "stdout",
     "output_type": "stream",
     "text": [
      "Це тип даних — <class 'set'> та його елементи {'String', 'dfe', 'string', 1}\n",
      "Я добавила та видалила елементи, нові елементи Сету {'dfe', 'string', 1} *___*\n"
     ]
    }
   ],
   "source": [
    "st = {\"String\", \"dfe\", \"string\", 1, 1.0, \"dfe\"}\n",
    "print(f\"Це тип даних — {type(st)} та його елементи {st}\")\n",
    "st.remove(\"String\")\n",
    "st.add(\"dfe\")\n",
    "print(f\"Я добавила та видалила елементи, нові елементи Сету {st} *___*\")"
   ]
  },
  {
   "cell_type": "markdown",
   "metadata": {},
   "source": [
    "#### Cловники dict"
   ]
  },
  {
   "cell_type": "code",
   "execution_count": 20,
   "metadata": {},
   "outputs": [
    {
     "name": "stdout",
     "output_type": "stream",
     "text": [
      "Елементи словника {'my name': 'Oksana', 'my age': 19, ' my name': 'Oksana'} та значення my name дорівнює Oksana\n",
      "Додала / видалила нове значення {'my age': 19, ' my name': 'Oksana', 'Нове значення': 'New'}\n"
     ]
    }
   ],
   "source": [
    "age = \"my age\"\n",
    "name = \" my name\"\n",
    "dd = {\"my name\": \"Oksana\", age: 19, \"my age\": None, age: 19, name: \"Oksana\"}\n",
    "print(f\"Елементи словника {dd} та значення my name дорівнює {dd['my name']}\")\n",
    "dd['Нове значення'] = \"New\"\n",
    "dd.pop('my name')\n",
    "print(f\"Додала / видалила нове значення {dd}\")"
   ]
  },
  {
   "cell_type": "markdown",
   "metadata": {},
   "source": [
    "### Tuples"
   ]
  },
  {
   "cell_type": "code",
   "execution_count": 24,
   "metadata": {},
   "outputs": [
    {
     "name": "stdout",
     "output_type": "stream",
     "text": [
      "Це є тип <class 'tuple'> та його елементи ('String', 1, 45, ['dfe', 55], '^___^', 'Новий елемент')\n",
      "1\n"
     ]
    }
   ],
   "source": [
    "tt = tuple(tt_2)\n",
    "print(f\"Це є тип {type(tt)} та його елементи {tt}\")\n",
    "print(tt.count('^___^'))"
   ]
  },
  {
   "cell_type": "markdown",
   "metadata": {},
   "source": [
    "## 2. Вбудовані константи"
   ]
  },
  {
   "cell_type": "code",
   "execution_count": 60,
   "metadata": {},
   "outputs": [
    {
     "name": "stdout",
     "output_type": "stream",
     "text": [
      "Перша константа True\n",
      "Друга константа False\n"
     ]
    }
   ],
   "source": [
    "print(\"Перша константа\", True)\n",
    "print(\"Друга константа\", False)"
   ]
  },
  {
   "cell_type": "markdown",
   "metadata": {},
   "source": [
    "## 3. Вбудовані функції"
   ]
  },
  {
   "cell_type": "code",
   "execution_count": 58,
   "metadata": {},
   "outputs": [
    {
     "name": "stdout",
     "output_type": "stream",
     "text": [
      "19.2 є рівним 19.2\n",
      "Модулі рівні\n",
      "19.2569\n"
     ]
    }
   ],
   "source": [
    "print(abs(-19.2), f\"є рівним {abs(19.2)}\")\n",
    "print(\"Модулі рівні\" if abs(-19.2) == abs(19.2) else \"Вони не рівні\")\n",
    "\n",
    "print(round(19.25685456, 4))"
   ]
  },
  {
   "cell_type": "markdown",
   "metadata": {},
   "source": [
    "## 4. Цикли"
   ]
  },
  {
   "cell_type": "code",
   "execution_count": 15,
   "metadata": {},
   "outputs": [
    {
     "name": "stdout",
     "output_type": "stream",
     "text": [
      "Значення а = 1\n",
      "Це не виконається\n",
      "Значення а = 2\n",
      "Це не виконається\n",
      "Значення а = 4\n",
      "Це не виконається\n",
      "Значення а = 5\n",
      "Це не виконається\n",
      "Перервали цикл на значенні 6\n",
      "~~~~~~~~~~~~~~~~~~~~ Закінчили з while ~~~~~~~~~~~~~~~~~~~~\n",
      "проходимо в циклі елемент String його тип <class 'str'>\n",
      "проходимо в циклі елемент 1 його тип <class 'int'>\n",
      "проходимо в циклі елемент 45 його тип <class 'int'>\n",
      "проходимо в циклі елемент ['dfe', 55] його тип <class 'list'>\n",
      "проходимо в циклі елемент ^___^ його тип <class 'str'>\n",
      "проходимо в циклі елемент Новий елемент його тип <class 'str'>\n",
      "~~~~~~~~~~~~~~~~~~~~ Закінчили перший приклад з for ~~~~~~~~~~~~~~~~~~~~\n",
      "5\n",
      "14\n",
      "23\n",
      "['Проходимо ітерацію 1', 'Проходимо ітерацію 2']\n"
     ]
    }
   ],
   "source": [
    "delimitter = \"~~\"*10\n",
    "a = 0\n",
    "while True: \n",
    "    a += 1   \n",
    "    if a > 5:\n",
    "        print(f\"Перервали цикл на значенні {a}\")\n",
    "        break\n",
    "    elif a == 3:\n",
    "        continue\n",
    "    \n",
    "    print(f\"Значення а = {a}\")\n",
    "    print(\"Це не виконається\")\n",
    "print(delimitter, \"Закінчили з while\", delimitter)   \n",
    "\n",
    "for i in tt_2:\n",
    "    print(f\"проходимо в циклі елемент {i} його тип {type(i)}\")\n",
    "print(delimitter, \"Закінчили перший приклад з for\", delimitter) \n",
    "\n",
    "for i in range(5, 30, 9): \n",
    "    print(i) \n",
    "\n",
    "print(list(f\"Проходимо ітерацію {one_line}\" for one_line in [1, 2]))"
   ]
  },
  {
   "cell_type": "markdown",
   "metadata": {},
   "source": [
    "## 5. Розгалуження"
   ]
  },
  {
   "cell_type": "code",
   "execution_count": 53,
   "metadata": {},
   "outputs": [
    {
     "name": "stdout",
     "output_type": "stream",
     "text": [
      "Значить Q=True\n",
      "Виконується  :)\n"
     ]
    }
   ],
   "source": [
    "Q = True\n",
    "print(\"Значить Q=True\" if Q else \"Значить Q=False\")\n",
    "\n",
    "Q = 18\n",
    "if Q > 55 :\n",
    "    print(\"Не виконається\")\n",
    "elif Q == 18:\n",
    "    print(\"Виконується  :)\")\n",
    "elif Q != 88:\n",
    "    print(\"Це не виконається!!!\")\n",
    "else:\n",
    "    print(\"Гарантовано Фолс\")"
   ]
  },
  {
   "cell_type": "markdown",
   "metadata": {},
   "source": [
    "## 6. Exceptions"
   ]
  },
  {
   "cell_type": "code",
   "execution_count": 49,
   "metadata": {},
   "outputs": [
    {
     "name": "stdout",
     "output_type": "stream",
     "text": [
      "division by zero\n",
      "Спроба поділу числа на значення Q є успішним якщо Q не дорівнює нулю\n"
     ]
    }
   ],
   "source": [
    "Q = 0\n",
    "try:\n",
    "    print(\"Що буде якщо число поділити на значяення А —\", 16/Q)\n",
    "except Exception as e:\n",
    "    print(e)\n",
    "finally:\n",
    "    print(\"Спроба поділу числа на значення Q є успішним якщо Q не дорівнює нулю\")"
   ]
  },
  {
   "cell_type": "markdown",
   "metadata": {},
   "source": [
    "## 7. Контекст менеджери"
   ]
  },
  {
   "cell_type": "code",
   "execution_count": 44,
   "metadata": {},
   "outputs": [
    {
     "name": "stdout",
     "output_type": "stream",
     "text": [
      "first line\n",
      "\n",
      "03 07 25\n",
      "\n",
      "last line\n",
      "[]\n"
     ]
    }
   ],
   "source": [
    "with open(\"text.txt\", \"r\") as f:\n",
    "    for line in f:\n",
    "        print(line)\n",
    "    print(f.readlines()) ### ??? "
   ]
  },
  {
   "cell_type": "markdown",
   "metadata": {},
   "source": [
    "## 8. Робота з Lambdas"
   ]
  },
  {
   "cell_type": "code",
   "execution_count": 47,
   "metadata": {},
   "outputs": [
    {
     "name": "stdout",
     "output_type": "stream",
     "text": [
      "Це функція: <function <lambda> at 0x013255C8>\n",
      "Її виклик: Цей код написала: Oksana Temna~\n"
     ]
    }
   ],
   "source": [
    "my_first_lambda = lambda first, last: f'Цей код написала: {first} {last}'\n",
    "print(\"Це функція:\", my_first_lambda)\n",
    "print(\"Її виклик:\", my_first_lambda('Oksana', 'Temna~'))"
   ]
  }
 ],
 "metadata": {
  "kernelspec": {
   "display_name": "Python 3.10.6 32-bit",
   "language": "python",
   "name": "python3"
  },
  "language_info": {
   "codemirror_mode": {
    "name": "ipython",
    "version": 3
   },
   "file_extension": ".py",
   "mimetype": "text/x-python",
   "name": "python",
   "nbconvert_exporter": "python",
   "pygments_lexer": "ipython3",
   "version": "3.10.6"
  },
  "orig_nbformat": 4,
  "vscode": {
   "interpreter": {
    "hash": "abd4ada11609510e3e6b567472da8fb6be156074fe673a3b17c46bb2710ce978"
   }
  }
 },
 "nbformat": 4,
 "nbformat_minor": 2
}
